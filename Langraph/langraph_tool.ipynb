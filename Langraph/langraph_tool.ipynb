{
 "cells": [
  {
   "cell_type": "code",
   "execution_count": 20,
   "metadata": {},
   "outputs": [
    {
     "name": "stdout",
     "output_type": "stream",
     "text": [
      "Requirement already satisfied: langgraph in c:\\users\\pritish\\anaconda3\\envs\\ml7\\lib\\site-packages (0.2.5)\n",
      "Requirement already satisfied: langsmith in c:\\users\\pritish\\anaconda3\\envs\\ml7\\lib\\site-packages (0.1.98)\n",
      "Requirement already satisfied: langchain in c:\\users\\pritish\\anaconda3\\envs\\ml7\\lib\\site-packages (0.2.14)\n",
      "Requirement already satisfied: langchain_groq in c:\\users\\pritish\\anaconda3\\envs\\ml7\\lib\\site-packages (0.1.9)\n",
      "Requirement already satisfied: langchain_community in c:\\users\\pritish\\anaconda3\\envs\\ml7\\lib\\site-packages (0.2.12)\n",
      "Requirement already satisfied: langchain-core<0.3,>=0.2.27 in c:\\users\\pritish\\anaconda3\\envs\\ml7\\lib\\site-packages (from langgraph) (0.2.33)\n",
      "Requirement already satisfied: langgraph-checkpoint<2.0.0,>=1.0.2 in c:\\users\\pritish\\anaconda3\\envs\\ml7\\lib\\site-packages (from langgraph) (1.0.3)\n",
      "Requirement already satisfied: orjson<4.0.0,>=3.9.14 in c:\\users\\pritish\\anaconda3\\envs\\ml7\\lib\\site-packages (from langsmith) (3.10.6)\n",
      "Requirement already satisfied: pydantic<3.0.0,>=2.7.4 in c:\\users\\pritish\\anaconda3\\envs\\ml7\\lib\\site-packages (from langsmith) (2.8.2)\n",
      "Requirement already satisfied: requests<3,>=2 in c:\\users\\pritish\\anaconda3\\envs\\ml7\\lib\\site-packages (from langsmith) (2.32.3)\n",
      "Requirement already satisfied: PyYAML>=5.3 in c:\\users\\pritish\\anaconda3\\envs\\ml7\\lib\\site-packages (from langchain) (6.0.1)\n",
      "Requirement already satisfied: SQLAlchemy<3,>=1.4 in c:\\users\\pritish\\anaconda3\\envs\\ml7\\lib\\site-packages (from langchain) (2.0.32)\n",
      "Requirement already satisfied: aiohttp<4.0.0,>=3.8.3 in c:\\users\\pritish\\anaconda3\\envs\\ml7\\lib\\site-packages (from langchain) (3.10.1)\n",
      "Requirement already satisfied: langchain-text-splitters<0.3.0,>=0.2.0 in c:\\users\\pritish\\anaconda3\\envs\\ml7\\lib\\site-packages (from langchain) (0.2.2)\n",
      "Requirement already satisfied: numpy<2.0.0,>=1.26.0 in c:\\users\\pritish\\anaconda3\\envs\\ml7\\lib\\site-packages (from langchain) (1.26.4)\n",
      "Requirement already satisfied: tenacity!=8.4.0,<9.0.0,>=8.1.0 in c:\\users\\pritish\\anaconda3\\envs\\ml7\\lib\\site-packages (from langchain) (8.5.0)\n",
      "Requirement already satisfied: groq<1,>=0.4.1 in c:\\users\\pritish\\anaconda3\\envs\\ml7\\lib\\site-packages (from langchain_groq) (0.9.0)\n",
      "Requirement already satisfied: dataclasses-json<0.7,>=0.5.7 in c:\\users\\pritish\\anaconda3\\envs\\ml7\\lib\\site-packages (from langchain_community) (0.6.7)\n",
      "Requirement already satisfied: aiohappyeyeballs>=2.3.0 in c:\\users\\pritish\\anaconda3\\envs\\ml7\\lib\\site-packages (from aiohttp<4.0.0,>=3.8.3->langchain) (2.3.5)\n",
      "Requirement already satisfied: aiosignal>=1.1.2 in c:\\users\\pritish\\anaconda3\\envs\\ml7\\lib\\site-packages (from aiohttp<4.0.0,>=3.8.3->langchain) (1.3.1)\n",
      "Requirement already satisfied: attrs>=17.3.0 in c:\\users\\pritish\\anaconda3\\envs\\ml7\\lib\\site-packages (from aiohttp<4.0.0,>=3.8.3->langchain) (24.2.0)\n",
      "Requirement already satisfied: frozenlist>=1.1.1 in c:\\users\\pritish\\anaconda3\\envs\\ml7\\lib\\site-packages (from aiohttp<4.0.0,>=3.8.3->langchain) (1.4.1)\n",
      "Requirement already satisfied: multidict<7.0,>=4.5 in c:\\users\\pritish\\anaconda3\\envs\\ml7\\lib\\site-packages (from aiohttp<4.0.0,>=3.8.3->langchain) (6.0.5)\n",
      "Requirement already satisfied: yarl<2.0,>=1.0 in c:\\users\\pritish\\anaconda3\\envs\\ml7\\lib\\site-packages (from aiohttp<4.0.0,>=3.8.3->langchain) (1.9.4)\n",
      "Requirement already satisfied: marshmallow<4.0.0,>=3.18.0 in c:\\users\\pritish\\anaconda3\\envs\\ml7\\lib\\site-packages (from dataclasses-json<0.7,>=0.5.7->langchain_community) (3.21.3)\n",
      "Requirement already satisfied: typing-inspect<1,>=0.4.0 in c:\\users\\pritish\\anaconda3\\envs\\ml7\\lib\\site-packages (from dataclasses-json<0.7,>=0.5.7->langchain_community) (0.9.0)\n",
      "Requirement already satisfied: anyio<5,>=3.5.0 in c:\\users\\pritish\\anaconda3\\envs\\ml7\\lib\\site-packages (from groq<1,>=0.4.1->langchain_groq) (4.2.0)\n",
      "Requirement already satisfied: distro<2,>=1.7.0 in c:\\users\\pritish\\anaconda3\\envs\\ml7\\lib\\site-packages (from groq<1,>=0.4.1->langchain_groq) (1.9.0)\n",
      "Requirement already satisfied: httpx<1,>=0.23.0 in c:\\users\\pritish\\anaconda3\\envs\\ml7\\lib\\site-packages (from groq<1,>=0.4.1->langchain_groq) (0.27.0)\n",
      "Requirement already satisfied: sniffio in c:\\users\\pritish\\anaconda3\\envs\\ml7\\lib\\site-packages (from groq<1,>=0.4.1->langchain_groq) (1.3.0)\n",
      "Requirement already satisfied: typing-extensions<5,>=4.7 in c:\\users\\pritish\\anaconda3\\envs\\ml7\\lib\\site-packages (from groq<1,>=0.4.1->langchain_groq) (4.11.0)\n",
      "Requirement already satisfied: jsonpatch<2.0,>=1.33 in c:\\users\\pritish\\anaconda3\\envs\\ml7\\lib\\site-packages (from langchain-core<0.3,>=0.2.27->langgraph) (1.33)\n",
      "Requirement already satisfied: packaging<25,>=23.2 in c:\\users\\pritish\\anaconda3\\envs\\ml7\\lib\\site-packages (from langchain-core<0.3,>=0.2.27->langgraph) (24.1)\n",
      "Requirement already satisfied: annotated-types>=0.4.0 in c:\\users\\pritish\\anaconda3\\envs\\ml7\\lib\\site-packages (from pydantic<3.0.0,>=2.7.4->langsmith) (0.6.0)\n",
      "Requirement already satisfied: pydantic-core==2.20.1 in c:\\users\\pritish\\anaconda3\\envs\\ml7\\lib\\site-packages (from pydantic<3.0.0,>=2.7.4->langsmith) (2.20.1)\n",
      "Requirement already satisfied: charset-normalizer<4,>=2 in c:\\users\\pritish\\anaconda3\\envs\\ml7\\lib\\site-packages (from requests<3,>=2->langsmith) (3.3.2)\n",
      "Requirement already satisfied: idna<4,>=2.5 in c:\\users\\pritish\\anaconda3\\envs\\ml7\\lib\\site-packages (from requests<3,>=2->langsmith) (3.7)\n",
      "Requirement already satisfied: urllib3<3,>=1.21.1 in c:\\users\\pritish\\anaconda3\\envs\\ml7\\lib\\site-packages (from requests<3,>=2->langsmith) (2.2.2)\n",
      "Requirement already satisfied: certifi>=2017.4.17 in c:\\users\\pritish\\anaconda3\\envs\\ml7\\lib\\site-packages (from requests<3,>=2->langsmith) (2024.7.4)\n",
      "Requirement already satisfied: greenlet!=0.4.17 in c:\\users\\pritish\\anaconda3\\envs\\ml7\\lib\\site-packages (from SQLAlchemy<3,>=1.4->langchain) (3.0.3)\n",
      "Requirement already satisfied: httpcore==1.* in c:\\users\\pritish\\anaconda3\\envs\\ml7\\lib\\site-packages (from httpx<1,>=0.23.0->groq<1,>=0.4.1->langchain_groq) (1.0.2)\n",
      "Requirement already satisfied: h11<0.15,>=0.13 in c:\\users\\pritish\\anaconda3\\envs\\ml7\\lib\\site-packages (from httpcore==1.*->httpx<1,>=0.23.0->groq<1,>=0.4.1->langchain_groq) (0.14.0)\n",
      "Requirement already satisfied: jsonpointer>=1.9 in c:\\users\\pritish\\anaconda3\\envs\\ml7\\lib\\site-packages (from jsonpatch<2.0,>=1.33->langchain-core<0.3,>=0.2.27->langgraph) (3.0.0)\n",
      "Requirement already satisfied: mypy-extensions>=0.3.0 in c:\\users\\pritish\\anaconda3\\envs\\ml7\\lib\\site-packages (from typing-inspect<1,>=0.4.0->dataclasses-json<0.7,>=0.5.7->langchain_community) (1.0.0)\n",
      "Note: you may need to restart the kernel to use updated packages.\n"
     ]
    }
   ],
   "source": [
    "pip install langgraph langsmith langchain langchain_groq langchain_community"
   ]
  },
  {
   "cell_type": "code",
   "execution_count": 21,
   "metadata": {},
   "outputs": [
    {
     "name": "stdout",
     "output_type": "stream",
     "text": [
      "Requirement already satisfied: arxiv in c:\\users\\pritish\\anaconda3\\envs\\ml7\\lib\\site-packages (2.1.3)\n",
      "Requirement already satisfied: wikipedia in c:\\users\\pritish\\anaconda3\\envs\\ml7\\lib\\site-packages (1.4.0)\n",
      "Requirement already satisfied: feedparser~=6.0.10 in c:\\users\\pritish\\anaconda3\\envs\\ml7\\lib\\site-packages (from arxiv) (6.0.11)\n",
      "Requirement already satisfied: requests~=2.32.0 in c:\\users\\pritish\\anaconda3\\envs\\ml7\\lib\\site-packages (from arxiv) (2.32.3)\n",
      "Requirement already satisfied: beautifulsoup4 in c:\\users\\pritish\\anaconda3\\envs\\ml7\\lib\\site-packages (from wikipedia) (4.12.3)\n",
      "Requirement already satisfied: sgmllib3k in c:\\users\\pritish\\anaconda3\\envs\\ml7\\lib\\site-packages (from feedparser~=6.0.10->arxiv) (1.0.0)\n",
      "Requirement already satisfied: charset-normalizer<4,>=2 in c:\\users\\pritish\\anaconda3\\envs\\ml7\\lib\\site-packages (from requests~=2.32.0->arxiv) (3.3.2)\n",
      "Requirement already satisfied: idna<4,>=2.5 in c:\\users\\pritish\\anaconda3\\envs\\ml7\\lib\\site-packages (from requests~=2.32.0->arxiv) (3.7)\n",
      "Requirement already satisfied: urllib3<3,>=1.21.1 in c:\\users\\pritish\\anaconda3\\envs\\ml7\\lib\\site-packages (from requests~=2.32.0->arxiv) (2.2.2)\n",
      "Requirement already satisfied: certifi>=2017.4.17 in c:\\users\\pritish\\anaconda3\\envs\\ml7\\lib\\site-packages (from requests~=2.32.0->arxiv) (2024.7.4)\n",
      "Requirement already satisfied: soupsieve>1.2 in c:\\users\\pritish\\anaconda3\\envs\\ml7\\lib\\site-packages (from beautifulsoup4->wikipedia) (2.5)\n",
      "Note: you may need to restart the kernel to use updated packages.\n"
     ]
    }
   ],
   "source": [
    "pip install arxiv wikipedia"
   ]
  },
  {
   "cell_type": "code",
   "execution_count": 22,
   "metadata": {},
   "outputs": [],
   "source": [
    "from typing import Annotated\n",
    "from typing_extensions import TypedDict"
   ]
  },
  {
   "cell_type": "code",
   "execution_count": 23,
   "metadata": {},
   "outputs": [],
   "source": [
    "## Working With Tools\n",
    "\n",
    "from langchain_community.utilities import ArxivAPIWrapper,WikipediaAPIWrapper\n",
    "from langchain_community.tools import ArxivQueryRun,WikipediaQueryRun\n",
    "\n",
    "## Arxiv And Wikipedia tools\n",
    "arxiv_wrapper=ArxivAPIWrapper(top_k_results=1,doc_content_chars_max=500)\n",
    "arxiv_tool=ArxivQueryRun(api_wrapper=arxiv_wrapper)\n",
    "\n",
    "api_wrapper=WikipediaAPIWrapper(top_k_results=1,doc_content_chars_max=500)\n",
    "wiki_tool=WikipediaQueryRun(api_wrapper=api_wrapper)"
   ]
  },
  {
   "cell_type": "code",
   "execution_count": 24,
   "metadata": {},
   "outputs": [
    {
     "data": {
      "text/plain": [
       "'Page: Who Is America?\\nSummary: Who Is America? is an American political satire mockumentary-style television series created by Sacha Baron Cohen that premiered on July 15, 2018, on Showtime. Baron Cohen also stars in the series as various characters and executive produces alongside Anthony Hines, Todd Schulman, Andrew Newman, Dan Mazer, and Adam Lowitt.\\n\\n'"
      ]
     },
     "execution_count": 24,
     "metadata": {},
     "output_type": "execute_result"
    }
   ],
   "source": [
    "wiki_tool.invoke(\"who is America\")"
   ]
  },
  {
   "cell_type": "code",
   "execution_count": 25,
   "metadata": {},
   "outputs": [
    {
     "data": {
      "text/plain": [
       "'Published: 2024-07-26\\nTitle: Modular RAG: Transforming RAG Systems into LEGO-like Reconfigurable Frameworks\\nAuthors: Yunfan Gao, Yun Xiong, Meng Wang, Haofen Wang\\nSummary: Retrieval-augmented Generation (RAG) has markedly enhanced the capabilities\\nof Large Language Models (LLMs) in tackling knowledge-intensive tasks. The\\nincreasing demands of application scenarios have driven the evolution of RAG,\\nleading to the integration of advanced retrievers, LLMs and other complementary\\ntechnologies, which'"
      ]
     },
     "execution_count": 25,
     "metadata": {},
     "output_type": "execute_result"
    }
   ],
   "source": [
    "arxiv_tool.invoke(\"RAG MODELS\")"
   ]
  },
  {
   "cell_type": "code",
   "execution_count": 26,
   "metadata": {},
   "outputs": [],
   "source": [
    "tools=[arxiv_tool]"
   ]
  },
  {
   "cell_type": "code",
   "execution_count": 27,
   "metadata": {},
   "outputs": [],
   "source": [
    "## Langgraph Application\n",
    "from langgraph.graph.message import add_messages\n",
    "class State(TypedDict):\n",
    "  messages:Annotated[list,add_messages]"
   ]
  },
  {
   "cell_type": "code",
   "execution_count": 28,
   "metadata": {},
   "outputs": [],
   "source": [
    "from langgraph.graph import StateGraph,START,END\n",
    "from langchain_groq import ChatGroq\n",
    "\n",
    "graph_builder= StateGraph(State)\n",
    "groq_api_key = \"xxx\"\n",
    "llm= ChatGroq(groq_api_key=groq_api_key,model_name=\"Gemma2-9b-It\", temperature=0)\n",
    "llm_with_tools=llm.bind_tools(tools=tools)"
   ]
  },
  {
   "cell_type": "code",
   "execution_count": 29,
   "metadata": {},
   "outputs": [
    {
     "data": {
      "image/jpeg": "[encoded data removed]",
      "text/plain": [
       "<IPython.core.display.Image object>"
      ]
     },
     "metadata": {},
     "output_type": "display_data"
    }
   ],
   "source": [
    "def chatbot(state:State):\n",
    "  return {\"messages\":[llm_with_tools.invoke(state[\"messages\"])]}\n",
    "\n",
    "from langgraph.prebuilt import ToolNode,tools_condition\n",
    "\n",
    "graph_builder.add_node(\"chatbot\",chatbot)\n",
    "tool_node = ToolNode(tools=tools)\n",
    "graph_builder.add_node(\"tools\", tool_node)\n",
    "\n",
    "graph_builder.add_conditional_edges(\n",
    "    \"chatbot\",\n",
    "    tools_condition,\n",
    ")\n",
    "graph_builder.add_edge(\"tools\", \"chatbot\")\n",
    "graph_builder.add_edge(START,\"chatbot\")\n",
    "\n",
    "graph=graph_builder.compile()\n",
    "from IPython.display import Image, display\n",
    "\n",
    "try:\n",
    "    display(Image(graph.get_graph().draw_mermaid_png()))\n",
    "except Exception:\n",
    "    # This requires some extra dependencies and is optional\n",
    "    pass"
   ]
  },
  {
   "cell_type": "code",
   "execution_count": 30,
   "metadata": {},
   "outputs": [
    {
     "name": "stdout",
     "output_type": "stream",
     "text": [
      "================================\u001b[1m Human Message \u001b[0m=================================\n",
      "\n",
      "Details regarding Computer Vision\n",
      "==================================\u001b[1m Ai Message \u001b[0m==================================\n",
      "Tool Calls:\n",
      "  arxiv (call_2453)\n",
      " Call ID: call_2453\n",
      "  Args:\n",
      "    query: Computer Vision\n",
      "=================================\u001b[1m Tool Message \u001b[0m=================================\n",
      "Name: arxiv\n",
      "\n",
      "Published: 2019-05-20\n",
      "Title: Implications of Computer Vision Driven Assistive Technologies Towards Individuals with Visual Impairment\n",
      "Authors: Linda Wang, Alexander Wong\n",
      "Summary: Computer vision based technology is becoming ubiquitous in society. One\n",
      "application area that has seen an increase in computer vision is assistive\n",
      "technologies, specifically for those with visual impairment. Research has shown\n",
      "the ability of computer vision models to achieve tasks such provide scene\n",
      "captions, detect obj\n",
      "==================================\u001b[1m Ai Message \u001b[0m==================================\n",
      "\n",
      "Computer vision is a field of artificial intelligence that enables computers to \"see\" and interpret images and videos.\n"
     ]
    }
   ],
   "source": [
    "user_input=\"Details regarding Computer Vision\"\n",
    "\n",
    "events=graph.stream(\n",
    "     {\"messages\": [(\"user\", user_input)]},stream_mode=\"values\"\n",
    ")\n",
    "\n",
    "for event in events:\n",
    "  event[\"messages\"][-1].pretty_print()"
   ]
  },
  {
   "cell_type": "code",
   "execution_count": 31,
   "metadata": {},
   "outputs": [
    {
     "name": "stdout",
     "output_type": "stream",
     "text": [
      "================================\u001b[1m Human Message \u001b[0m=================================\n",
      "\n",
      "what is RNN.\n",
      "==================================\u001b[1m Ai Message \u001b[0m==================================\n",
      "Tool Calls:\n",
      "  arxiv (call_v22q)\n",
      " Call ID: call_v22q\n",
      "  Args:\n",
      "    query: Recurrent Neural Networks\n",
      "=================================\u001b[1m Tool Message \u001b[0m=================================\n",
      "Name: arxiv\n",
      "\n",
      "Published: 2020-10-20\n",
      "Title: Implicit recurrent networks: A novel approach to stationary input processing with recurrent neural networks in deep learning\n",
      "Authors: Sebastian Sanokowski\n",
      "Summary: The brain cortex, which processes visual, auditory and sensory data in the\n",
      "brain, is known to have many recurrent connections within its layers and from\n",
      "higher to lower layers. But, in the case of machine learning with neural\n",
      "networks, it is generally assumed that strict feed-forward architectures are\n",
      "suit\n",
      "==================================\u001b[1m Ai Message \u001b[0m==================================\n",
      "\n",
      "RNN stands for Recurrent Neural Network. \n",
      "\n",
      "It's a type of artificial neural network designed to handle sequential data, like text or speech. \n",
      "\n",
      "Unlike traditional feed-forward networks, RNNs have loops that allow information to persist over time. This makes them well-suited for tasks involving understanding context and dependencies within sequences.\n"
     ]
    }
   ],
   "source": [
    "user_input = \"what is RNN.\"\n",
    "\n",
    "# The config is the **second positional argument** to stream() or invoke()!\n",
    "events = graph.stream(\n",
    "    {\"messages\": [(\"user\", user_input)]},stream_mode=\"values\"\n",
    ")\n",
    "for event in events:\n",
    "    event[\"messages\"][-1].pretty_print()"
   ]
  }
 ],
 "metadata": {
  "kernelspec": {
   "display_name": "ML7",
   "language": "python",
   "name": "python3"
  },
  "language_info": {
   "codemirror_mode": {
    "name": "ipython",
    "version": 3
   },
   "file_extension": ".py",
   "mimetype": "text/x-python",
   "name": "python",
   "nbconvert_exporter": "python",
   "pygments_lexer": "ipython3",
   "version": "3.12.4"
  }
 },
 "nbformat": 4,
 "nbformat_minor": 2
}
